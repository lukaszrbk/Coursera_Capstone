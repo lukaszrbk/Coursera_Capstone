{
    "cells": [
        {
            "cell_type": "markdown",
            "metadata": {
                "collapsed": true
            },
            "source": "# <font color='darkgreen'>Applied data science capstone- final assignment project</font>"
        },
        {
            "cell_type": "markdown",
            "metadata": {},
            "source": "---"
        },
        {
            "cell_type": "markdown",
            "metadata": {},
            "source": "## <font color='green'>Introduction</font>"
        },
        {
            "cell_type": "markdown",
            "metadata": {},
            "source": "Traffic accidents have an adverse effect both on an individual and societal level resulting in costs due to person injuries and property damage, increased travel times and emissions due to congestion.\n\nAlthough the outcome of one accident can be very different to another, the underlying cause can be very similar. Roads shrouded in dense fog can make driving incredibly dangerous, limiting visibility of the looming road ahead. Large amounts of rain or snowfall can also provide treacherous driving conditions which will affect a great number of road users.\n\nThe question is:"
        },
        {
            "cell_type": "markdown",
            "metadata": {},
            "source": "### <i>Given the weather and the road conditions- what is the possibility of a person getting into a car accident and how severe it would be, so that he/she would drive more carefully or even change his/her travel if he/she is able to.</i>"
        },
        {
            "cell_type": "markdown",
            "metadata": {},
            "source": "#### Target audience for the presented research will be all of the people with the driving license."
        },
        {
            "cell_type": "markdown",
            "metadata": {},
            "source": "---"
        },
        {
            "cell_type": "markdown",
            "metadata": {},
            "source": "## <font color='green'>Data description</font>"
        },
        {
            "cell_type": "markdown",
            "metadata": {},
            "source": "#### High level description"
        },
        {
            "cell_type": "markdown",
            "metadata": {},
            "source": "The dataset covers all types collisions (events gathered from 2004 till now) provided with such information as severity of the accident, weather or an indication, that the accident involved hitting the parked car or whether the driver was under the influence of drug or alcohol (to distingush accidents that not neccessarily have to be connected with weather conditions)."
        },
        {
            "cell_type": "markdown",
            "metadata": {},
            "source": "#### Features details"
        },
        {
            "cell_type": "markdown",
            "metadata": {},
            "source": "<b>SEVERITYCODE</b>- a code that corresponds to the severity of the collision: 3-fatality;2b-serious injury;2-injury;1-prop damage;0-unknown<br>\n<b>UNDERINFL</b>- whether or not a driver involved was under the influence of drugs or alcohol<br>\n<b>WEATHER</b>- a description of the weather conditions during the time of the collision<br>\n<b>ROADCOND</b>- the condition of the road during the collision<br>\n<b>LIGHTCOND</b>- the light conditions during the collision<br>\n<b>SPEEDING</b>- whether or not speeding was a factor in the collision<br>\n<b>HITPARKEDCAR</b>- whether or not the collision involved hitting a parked car<br>\n<b>INATTENTIONIND</b>- whether or not collision was due to innatention<br>\n<b>PERSONCOUNT</b>- the total number of people involved in the collision"
        },
        {
            "cell_type": "markdown",
            "metadata": {},
            "source": "#### Example"
        },
        {
            "cell_type": "markdown",
            "metadata": {},
            "source": "df[4:5]"
        },
        {
            "cell_type": "markdown",
            "metadata": {},
            "source": "Example shown above illustrates the incident resulting with injuries. No parked vehicles were taking part in the event and speeding or drugs/alcohol were not the reason. Incident occured in the daylight, but probably wet road conditions and rainy weather were the root cause."
        },
        {
            "cell_type": "markdown",
            "metadata": {},
            "source": "---"
        },
        {
            "cell_type": "markdown",
            "metadata": {},
            "source": "## <font color='green'>Data preparation</font>"
        },
        {
            "cell_type": "markdown",
            "metadata": {},
            "source": "### Importing necessary modules"
        },
        {
            "cell_type": "code",
            "execution_count": 1,
            "metadata": {},
            "outputs": [],
            "source": "import pandas as pd\nimport pylab as pl\nimport numpy as np\nimport scipy.optimize as opt\nfrom sklearn import preprocessing\n%matplotlib inline \nimport matplotlib.pyplot as plt"
        },
        {
            "cell_type": "markdown",
            "metadata": {},
            "source": "### Reading the input dataset"
        },
        {
            "cell_type": "code",
            "execution_count": 2,
            "metadata": {},
            "outputs": [],
            "source": "# The code was removed by Watson Studio for sharing."
        },
        {
            "cell_type": "code",
            "execution_count": 3,
            "metadata": {},
            "outputs": [
                {
                    "name": "stderr",
                    "output_type": "stream",
                    "text": "/opt/conda/envs/Python36/lib/python3.6/site-packages/IPython/core/interactiveshell.py:3020: DtypeWarning: Columns (33) have mixed types. Specify dtype option on import or set low_memory=False.\n  interactivity=interactivity, compiler=compiler, result=result)\n"
                },
                {
                    "data": {
                        "text/html": "<div>\n<style scoped>\n    .dataframe tbody tr th:only-of-type {\n        vertical-align: middle;\n    }\n\n    .dataframe tbody tr th {\n        vertical-align: top;\n    }\n\n    .dataframe thead th {\n        text-align: right;\n    }\n</style>\n<table border=\"1\" class=\"dataframe\">\n  <thead>\n    <tr style=\"text-align: right;\">\n      <th></th>\n      <th>SEVERITYCODE</th>\n      <th>X</th>\n      <th>Y</th>\n      <th>OBJECTID</th>\n      <th>INCKEY</th>\n      <th>COLDETKEY</th>\n      <th>REPORTNO</th>\n      <th>STATUS</th>\n      <th>ADDRTYPE</th>\n      <th>INTKEY</th>\n      <th>...</th>\n      <th>ROADCOND</th>\n      <th>LIGHTCOND</th>\n      <th>PEDROWNOTGRNT</th>\n      <th>SDOTCOLNUM</th>\n      <th>SPEEDING</th>\n      <th>ST_COLCODE</th>\n      <th>ST_COLDESC</th>\n      <th>SEGLANEKEY</th>\n      <th>CROSSWALKKEY</th>\n      <th>HITPARKEDCAR</th>\n    </tr>\n  </thead>\n  <tbody>\n    <tr>\n      <th>0</th>\n      <td>2</td>\n      <td>-122.323148</td>\n      <td>47.703140</td>\n      <td>1</td>\n      <td>1307</td>\n      <td>1307</td>\n      <td>3502005</td>\n      <td>Matched</td>\n      <td>Intersection</td>\n      <td>37475.0</td>\n      <td>...</td>\n      <td>Wet</td>\n      <td>Daylight</td>\n      <td>NaN</td>\n      <td>NaN</td>\n      <td>NaN</td>\n      <td>10</td>\n      <td>Entering at angle</td>\n      <td>0</td>\n      <td>0</td>\n      <td>N</td>\n    </tr>\n    <tr>\n      <th>1</th>\n      <td>1</td>\n      <td>-122.347294</td>\n      <td>47.647172</td>\n      <td>2</td>\n      <td>52200</td>\n      <td>52200</td>\n      <td>2607959</td>\n      <td>Matched</td>\n      <td>Block</td>\n      <td>NaN</td>\n      <td>...</td>\n      <td>Wet</td>\n      <td>Dark - Street Lights On</td>\n      <td>NaN</td>\n      <td>6354039.0</td>\n      <td>NaN</td>\n      <td>11</td>\n      <td>From same direction - both going straight - bo...</td>\n      <td>0</td>\n      <td>0</td>\n      <td>N</td>\n    </tr>\n    <tr>\n      <th>2</th>\n      <td>1</td>\n      <td>-122.334540</td>\n      <td>47.607871</td>\n      <td>3</td>\n      <td>26700</td>\n      <td>26700</td>\n      <td>1482393</td>\n      <td>Matched</td>\n      <td>Block</td>\n      <td>NaN</td>\n      <td>...</td>\n      <td>Dry</td>\n      <td>Daylight</td>\n      <td>NaN</td>\n      <td>4323031.0</td>\n      <td>NaN</td>\n      <td>32</td>\n      <td>One parked--one moving</td>\n      <td>0</td>\n      <td>0</td>\n      <td>N</td>\n    </tr>\n    <tr>\n      <th>3</th>\n      <td>1</td>\n      <td>-122.334803</td>\n      <td>47.604803</td>\n      <td>4</td>\n      <td>1144</td>\n      <td>1144</td>\n      <td>3503937</td>\n      <td>Matched</td>\n      <td>Block</td>\n      <td>NaN</td>\n      <td>...</td>\n      <td>Dry</td>\n      <td>Daylight</td>\n      <td>NaN</td>\n      <td>NaN</td>\n      <td>NaN</td>\n      <td>23</td>\n      <td>From same direction - all others</td>\n      <td>0</td>\n      <td>0</td>\n      <td>N</td>\n    </tr>\n    <tr>\n      <th>4</th>\n      <td>2</td>\n      <td>-122.306426</td>\n      <td>47.545739</td>\n      <td>5</td>\n      <td>17700</td>\n      <td>17700</td>\n      <td>1807429</td>\n      <td>Matched</td>\n      <td>Intersection</td>\n      <td>34387.0</td>\n      <td>...</td>\n      <td>Wet</td>\n      <td>Daylight</td>\n      <td>NaN</td>\n      <td>4028032.0</td>\n      <td>NaN</td>\n      <td>10</td>\n      <td>Entering at angle</td>\n      <td>0</td>\n      <td>0</td>\n      <td>N</td>\n    </tr>\n  </tbody>\n</table>\n<p>5 rows \u00d7 38 columns</p>\n</div>",
                        "text/plain": "   SEVERITYCODE           X          Y  OBJECTID  INCKEY  COLDETKEY REPORTNO  \\\n0             2 -122.323148  47.703140         1    1307       1307  3502005   \n1             1 -122.347294  47.647172         2   52200      52200  2607959   \n2             1 -122.334540  47.607871         3   26700      26700  1482393   \n3             1 -122.334803  47.604803         4    1144       1144  3503937   \n4             2 -122.306426  47.545739         5   17700      17700  1807429   \n\n    STATUS      ADDRTYPE   INTKEY  ... ROADCOND                LIGHTCOND  \\\n0  Matched  Intersection  37475.0  ...      Wet                 Daylight   \n1  Matched         Block      NaN  ...      Wet  Dark - Street Lights On   \n2  Matched         Block      NaN  ...      Dry                 Daylight   \n3  Matched         Block      NaN  ...      Dry                 Daylight   \n4  Matched  Intersection  34387.0  ...      Wet                 Daylight   \n\n  PEDROWNOTGRNT  SDOTCOLNUM SPEEDING ST_COLCODE  \\\n0           NaN         NaN      NaN         10   \n1           NaN   6354039.0      NaN         11   \n2           NaN   4323031.0      NaN         32   \n3           NaN         NaN      NaN         23   \n4           NaN   4028032.0      NaN         10   \n\n                                          ST_COLDESC  SEGLANEKEY  \\\n0                                  Entering at angle           0   \n1  From same direction - both going straight - bo...           0   \n2                             One parked--one moving           0   \n3                   From same direction - all others           0   \n4                                  Entering at angle           0   \n\n   CROSSWALKKEY  HITPARKEDCAR  \n0             0             N  \n1             0             N  \n2             0             N  \n3             0             N  \n4             0             N  \n\n[5 rows x 38 columns]"
                    },
                    "execution_count": 3,
                    "metadata": {},
                    "output_type": "execute_result"
                }
            ],
            "source": "fullcoll_df = pd.read_csv(body)\nfullcoll_df.head()"
        },
        {
            "cell_type": "markdown",
            "metadata": {},
            "source": "### We are searching for the accidents, initiated by the motor vehicle, therefore the best approach would be to filter 'ST_COLDESC' (short incidents descriptions) column to pick only motor vehicle accidents"
        },
        {
            "cell_type": "code",
            "execution_count": 4,
            "metadata": {},
            "outputs": [
                {
                    "data": {
                        "text/plain": "(194673, 38)"
                    },
                    "execution_count": 4,
                    "metadata": {},
                    "output_type": "execute_result"
                }
            ],
            "source": "fullcoll_df.shape"
        },
        {
            "cell_type": "code",
            "execution_count": 5,
            "metadata": {},
            "outputs": [
                {
                    "data": {
                        "text/plain": "array(['MOTOR VEHICLE STRUCK MOTOR VEHICLE, FRONT END AT ANGLE',\n       'MOTOR VEHICLE STRUCK MOTOR VEHICLE, LEFT SIDE SIDESWIPE',\n       'MOTOR VEHICLE STRUCK MOTOR VEHICLE, REAR END',\n       'PEDALCYCLIST STRUCK MOTOR VEHICLE FRONT END AT ANGLE',\n       'MOTOR VEHICLE STRUCK MOTOR VEHICLE, LEFT SIDE AT ANGLE',\n       'MOTOR VEHICLE STRUCK OBJECT IN ROAD',\n       'MOTOR VEHICLE RAN OFF ROAD - HIT FIXED OBJECT',\n       'MOTOR VEHICLE STRUCK PEDALCYCLIST, FRONT END AT ANGLE',\n       'DRIVERLESS VEHICLE STRUCK MOTOR VEHICLE REAR END',\n       'NOT ENOUGH INFORMATION / NOT APPLICABLE',\n       'MOTOR VEHCILE STRUCK PEDESTRIAN',\n       'PEDALCYCLIST OVERTURNED IN ROAD',\n       'MOTOR VEHICLE STRUCK MOTOR VEHICLE, RIGHT SIDE AT ANGLE',\n       'MOTOR VEHICLE STRUCK PEDALCYCLIST, REAR END',\n       'MOTOR VEHICLE STRUCK PEDALCYCLIST, LEFT SIDE SIDESWIPE',\n       'MOTOR VEHICLE OVERTURNED IN ROAD',\n       'MOTOR VEHICLE RAN OFF ROAD - NO COLLISION',\n       'DRIVERLESS VEHICLE RAN OFF ROAD - HIT FIXED OBJECT',\n       'MOTOR VEHICLE STRUCK MOTOR VEHICLE, RIGHT SIDE SIDESWIPE',\n       'PEDALCYCLIST STRUCK MOTOR VEHICLE RIGHT SIDE SIDESWIPE',\n       'DRIVERLESS VEHICLE STRUCK MOTOR VEHICLE LEFT SIDE AT ANGLE',\n       'PEDALCYCLIST STRUCK MOTOR VEHICLE LEFT SIDE SIDESWIPE',\n       'PEDALCYCLIST STRUCK MOTOR VEHICLE REAR END',\n       'DRIVERLESS VEHICLE STRUCK MOTOR VEHICLE FRONT END AT ANGLE',\n       'DRIVERLESS VEHICLE STRUCK PEDESTRIAN',\n       'DRIVERLESS VEHICLE STRUCK MOTOR VEHICLE RIGHT SIDE AT ANGLE ',\n       'MOTOR VEHICLE STRUCK TRAIN', 'PEDALCYCLIST STRUCK OBJECT IN ROAD',\n       'DRIVERLESS VEHICLE STRUCK MOTOR VEHICLE LEFT SIDE SIDESWIPE',\n       'PEDALCYCLIST STRUCK PEDESTRIAN',\n       'MOTOR VEHICLE STRUCK PEDALCYCLIST, RIGHT SIDE SIDESWIPE',\n       'PEDALCYCLIST STRUCK PEDALCYCLIST FRONT END AT ANGLE',\n       'DRIVERLESS VEHICLE RAN OFF ROAD - NO COLLISION',\n       'PEDALCYCLIST STRUCK PEDALCYCLIST REAR END',\n       'DRIVERLESS VEHICLE STRUCK MOTOR VEHICLE RIGHT SIDE SIDESWIPE',\n       'PEDALCYCLIST STRUCK MOTOR VEHICLE LEFT SIDE AT ANGLE',\n       'DRIVERLESS VEHICLE STRUCK OBJECT IN ROADWAY',\n       'PEDALCYCLIST RAN OFF ROAD - HIT FIXED OBJECT',\n       'PEDALCYCLIST STRUCK MOTOR VEHICLE RIGHT SIDE AT ANGLE'],\n      dtype=object)"
                    },
                    "execution_count": 5,
                    "metadata": {},
                    "output_type": "execute_result"
                }
            ],
            "source": "fullcoll_df['SDOT_COLDESC'].unique()"
        },
        {
            "cell_type": "code",
            "execution_count": 6,
            "metadata": {},
            "outputs": [
                {
                    "data": {
                        "text/plain": "0"
                    },
                    "execution_count": 6,
                    "metadata": {},
                    "output_type": "execute_result"
                }
            ],
            "source": "fullcoll_df['SDOT_COLDESC'].isnull().sum()"
        },
        {
            "cell_type": "code",
            "execution_count": 7,
            "metadata": {},
            "outputs": [],
            "source": "fullcoll_df=fullcoll_df.loc[fullcoll_df['SDOT_COLDESC'].str.contains(pat=\"^MOTOR\")]"
        },
        {
            "cell_type": "code",
            "execution_count": 8,
            "metadata": {},
            "outputs": [
                {
                    "data": {
                        "text/plain": "array(['MOTOR VEHICLE STRUCK MOTOR VEHICLE, FRONT END AT ANGLE',\n       'MOTOR VEHICLE STRUCK MOTOR VEHICLE, LEFT SIDE SIDESWIPE',\n       'MOTOR VEHICLE STRUCK MOTOR VEHICLE, REAR END',\n       'MOTOR VEHICLE STRUCK MOTOR VEHICLE, LEFT SIDE AT ANGLE',\n       'MOTOR VEHICLE STRUCK OBJECT IN ROAD',\n       'MOTOR VEHICLE RAN OFF ROAD - HIT FIXED OBJECT',\n       'MOTOR VEHICLE STRUCK PEDALCYCLIST, FRONT END AT ANGLE',\n       'MOTOR VEHCILE STRUCK PEDESTRIAN',\n       'MOTOR VEHICLE STRUCK MOTOR VEHICLE, RIGHT SIDE AT ANGLE',\n       'MOTOR VEHICLE STRUCK PEDALCYCLIST, REAR END',\n       'MOTOR VEHICLE STRUCK PEDALCYCLIST, LEFT SIDE SIDESWIPE',\n       'MOTOR VEHICLE OVERTURNED IN ROAD',\n       'MOTOR VEHICLE RAN OFF ROAD - NO COLLISION',\n       'MOTOR VEHICLE STRUCK MOTOR VEHICLE, RIGHT SIDE SIDESWIPE',\n       'MOTOR VEHICLE STRUCK TRAIN',\n       'MOTOR VEHICLE STRUCK PEDALCYCLIST, RIGHT SIDE SIDESWIPE'],\n      dtype=object)"
                    },
                    "execution_count": 8,
                    "metadata": {},
                    "output_type": "execute_result"
                }
            ],
            "source": "fullcoll_df['SDOT_COLDESC'].unique()"
        },
        {
            "cell_type": "markdown",
            "metadata": {},
            "source": "### Picking needed columns"
        },
        {
            "cell_type": "code",
            "execution_count": 9,
            "metadata": {},
            "outputs": [
                {
                    "data": {
                        "text/html": "<div>\n<style scoped>\n    .dataframe tbody tr th:only-of-type {\n        vertical-align: middle;\n    }\n\n    .dataframe tbody tr th {\n        vertical-align: top;\n    }\n\n    .dataframe thead th {\n        text-align: right;\n    }\n</style>\n<table border=\"1\" class=\"dataframe\">\n  <thead>\n    <tr style=\"text-align: right;\">\n      <th></th>\n      <th>WEATHER</th>\n      <th>SEVERITYCODE</th>\n      <th>ROADCOND</th>\n      <th>LIGHTCOND</th>\n      <th>SPEEDING</th>\n      <th>HITPARKEDCAR</th>\n      <th>UNDERINFL</th>\n      <th>INATTENTIONIND</th>\n      <th>PERSONCOUNT</th>\n    </tr>\n  </thead>\n  <tbody>\n    <tr>\n      <th>0</th>\n      <td>Overcast</td>\n      <td>2</td>\n      <td>Wet</td>\n      <td>Daylight</td>\n      <td>NaN</td>\n      <td>N</td>\n      <td>N</td>\n      <td>NaN</td>\n      <td>2</td>\n    </tr>\n    <tr>\n      <th>1</th>\n      <td>Raining</td>\n      <td>1</td>\n      <td>Wet</td>\n      <td>Dark - Street Lights On</td>\n      <td>NaN</td>\n      <td>N</td>\n      <td>0</td>\n      <td>NaN</td>\n      <td>2</td>\n    </tr>\n    <tr>\n      <th>2</th>\n      <td>Overcast</td>\n      <td>1</td>\n      <td>Dry</td>\n      <td>Daylight</td>\n      <td>NaN</td>\n      <td>N</td>\n      <td>0</td>\n      <td>NaN</td>\n      <td>4</td>\n    </tr>\n    <tr>\n      <th>3</th>\n      <td>Clear</td>\n      <td>1</td>\n      <td>Dry</td>\n      <td>Daylight</td>\n      <td>NaN</td>\n      <td>N</td>\n      <td>N</td>\n      <td>NaN</td>\n      <td>3</td>\n    </tr>\n    <tr>\n      <th>4</th>\n      <td>Raining</td>\n      <td>2</td>\n      <td>Wet</td>\n      <td>Daylight</td>\n      <td>NaN</td>\n      <td>N</td>\n      <td>0</td>\n      <td>NaN</td>\n      <td>2</td>\n    </tr>\n  </tbody>\n</table>\n</div>",
                        "text/plain": "    WEATHER  SEVERITYCODE ROADCOND                LIGHTCOND SPEEDING  \\\n0  Overcast             2      Wet                 Daylight      NaN   \n1   Raining             1      Wet  Dark - Street Lights On      NaN   \n2  Overcast             1      Dry                 Daylight      NaN   \n3     Clear             1      Dry                 Daylight      NaN   \n4   Raining             2      Wet                 Daylight      NaN   \n\n  HITPARKEDCAR UNDERINFL INATTENTIONIND  PERSONCOUNT  \n0            N         N            NaN            2  \n1            N         0            NaN            2  \n2            N         0            NaN            4  \n3            N         N            NaN            3  \n4            N         0            NaN            2  "
                    },
                    "execution_count": 9,
                    "metadata": {},
                    "output_type": "execute_result"
                }
            ],
            "source": "df=fullcoll_df[['WEATHER','SEVERITYCODE','ROADCOND','LIGHTCOND','SPEEDING','HITPARKEDCAR','UNDERINFL','INATTENTIONIND','PERSONCOUNT']]\ndf.head()"
        },
        {
            "cell_type": "markdown",
            "metadata": {},
            "source": "### Counting null values"
        },
        {
            "cell_type": "code",
            "execution_count": 10,
            "metadata": {},
            "outputs": [
                {
                    "name": "stdout",
                    "output_type": "stream",
                    "text": "WEATHER             4224\nSEVERITYCODE           0\nROADCOND            4155\nLIGHTCOND           4294\nSPEEDING          173510\nHITPARKEDCAR           0\nUNDERINFL           4045\nINATTENTIONIND    153858\nPERSONCOUNT            0\ndtype: int64\n(182620, 9)\n"
                }
            ],
            "source": "print(df.isnull().sum())\nprint(df.shape)"
        },
        {
            "cell_type": "markdown",
            "metadata": {},
            "source": "### Results show most NULL values in the Speeding and Inattentionind columns, but it is proven below, that these should be replaced by 'N' (as the only remaining value is 'Y')"
        },
        {
            "cell_type": "code",
            "execution_count": 11,
            "metadata": {},
            "outputs": [
                {
                    "name": "stdout",
                    "output_type": "stream",
                    "text": "Unique values for the WEATHER:\n['Overcast' 'Raining' 'Clear' nan 'Unknown' 'Other' 'Snowing'\n 'Fog/Smog/Smoke' 'Sleet/Hail/Freezing Rain' 'Blowing Sand/Dirt'\n 'Severe Crosswind' 'Partly Cloudy']\n\nUnique values for the SEVERITYCODE:\n[2 1]\n\nUnique values for the ROADCOND:\n['Wet' 'Dry' nan 'Unknown' 'Snow/Slush' 'Ice' 'Other' 'Sand/Mud/Dirt'\n 'Standing Water' 'Oil']\n\nUnique values for the LIGHTCOND:\n['Daylight' 'Dark - Street Lights On' 'Dark - No Street Lights' nan\n 'Unknown' 'Dusk' 'Dawn' 'Dark - Street Lights Off' 'Other'\n 'Dark - Unknown Lighting']\n\nUnique values for the SPEEDING:\n[nan 'Y']\n\nUnique values for the HITPARKEDCAR:\n['N' 'Y']\n\nUnique values for the UNDERINFL:\n['N' '0' nan '1' 'Y']\n\nUnique values for the INATTENTIONIND:\n[nan 'Y']\n\nUnique values for the PERSONCOUNT:\n[ 2  4  3  0  1  5  6 16  8  7 11  9 12 17 26 22 10 37 13 36 28 14 53 19\n 30 29 23 44 15 32 21 41 27 20 35 43 81 18 25 48 24 34 57 39 47 54 31]\n\n"
                }
            ],
            "source": "print('Unique values for the WEATHER:\\n%s\\n'% df['WEATHER'].unique())\nprint('Unique values for the SEVERITYCODE:\\n%s\\n'% df['SEVERITYCODE'].unique())\nprint('Unique values for the ROADCOND:\\n%s\\n'% df['ROADCOND'].unique())\nprint('Unique values for the LIGHTCOND:\\n%s\\n'% df['LIGHTCOND'].unique())\nprint('Unique values for the SPEEDING:\\n%s\\n'% df['SPEEDING'].unique())\nprint('Unique values for the HITPARKEDCAR:\\n%s\\n'% df['HITPARKEDCAR'].unique())\nprint('Unique values for the UNDERINFL:\\n%s\\n'% df['UNDERINFL'].unique())\nprint('Unique values for the INATTENTIONIND:\\n%s\\n'% df['INATTENTIONIND'].unique())\nprint('Unique values for the PERSONCOUNT:\\n%s\\n'% df['PERSONCOUNT'].unique())"
        },
        {
            "cell_type": "markdown",
            "metadata": {},
            "source": "### After finding unique labels, when it comes to the severity, we are dealing only with injuries or property damage. We need to remove 'Other' \u00e1nd 'Unknown' road conditions as they are not informative enough. The same goes for 'nan','Unknown' and '\u00d3ther' light conditions and 'nan','Other' and 'Unknown' in the 'Weather' column. In the column 'Speeding', we are dealing only with 'nan' or 'Y'- therefore we can assume, that 'nan' can be replaced by 'N'- we need to treat the data from 'INATTENTIONIND' analogically. In the column 'Underinfl' we need to remove 'nan' values, replace 0 with 'N' and 1 with 'Y'."
        },
        {
            "cell_type": "code",
            "execution_count": 12,
            "metadata": {},
            "outputs": [
                {
                    "name": "stderr",
                    "output_type": "stream",
                    "text": "/opt/conda/envs/Python36/lib/python3.6/site-packages/pandas/core/generic.py:6130: SettingWithCopyWarning: \nA value is trying to be set on a copy of a slice from a DataFrame\n\nSee the caveats in the documentation: http://pandas.pydata.org/pandas-docs/stable/indexing.html#indexing-view-versus-copy\n  self._update_inplace(new_data)\n"
                }
            ],
            "source": "df['INATTENTIONIND'].fillna('N',inplace=True)"
        },
        {
            "cell_type": "code",
            "execution_count": 13,
            "metadata": {},
            "outputs": [],
            "source": "df['SPEEDING'].fillna('N',inplace=True)"
        },
        {
            "cell_type": "code",
            "execution_count": 14,
            "metadata": {},
            "outputs": [
                {
                    "name": "stderr",
                    "output_type": "stream",
                    "text": "/opt/conda/envs/Python36/lib/python3.6/site-packages/pandas/core/generic.py:6586: SettingWithCopyWarning: \nA value is trying to be set on a copy of a slice from a DataFrame\n\nSee the caveats in the documentation: http://pandas.pydata.org/pandas-docs/stable/indexing.html#indexing-view-versus-copy\n  self._update_inplace(new_data)\n"
                }
            ],
            "source": "df['UNDERINFL'].replace(to_replace=\"0\", value=\"N\",inplace=True)"
        },
        {
            "cell_type": "code",
            "execution_count": 15,
            "metadata": {},
            "outputs": [],
            "source": "df['UNDERINFL'].replace(to_replace=\"1\", value=\"Y\",inplace=True)"
        },
        {
            "cell_type": "code",
            "execution_count": 16,
            "metadata": {},
            "outputs": [
                {
                    "data": {
                        "text/html": "<div>\n<style scoped>\n    .dataframe tbody tr th:only-of-type {\n        vertical-align: middle;\n    }\n\n    .dataframe tbody tr th {\n        vertical-align: top;\n    }\n\n    .dataframe thead th {\n        text-align: right;\n    }\n</style>\n<table border=\"1\" class=\"dataframe\">\n  <thead>\n    <tr style=\"text-align: right;\">\n      <th></th>\n      <th>WEATHER</th>\n      <th>SEVERITYCODE</th>\n      <th>ROADCOND</th>\n      <th>LIGHTCOND</th>\n      <th>SPEEDING</th>\n      <th>HITPARKEDCAR</th>\n      <th>UNDERINFL</th>\n      <th>INATTENTIONIND</th>\n      <th>PERSONCOUNT</th>\n    </tr>\n  </thead>\n  <tbody>\n    <tr>\n      <th>0</th>\n      <td>Overcast</td>\n      <td>2</td>\n      <td>Wet</td>\n      <td>Daylight</td>\n      <td>N</td>\n      <td>N</td>\n      <td>N</td>\n      <td>N</td>\n      <td>2</td>\n    </tr>\n    <tr>\n      <th>1</th>\n      <td>Raining</td>\n      <td>1</td>\n      <td>Wet</td>\n      <td>Dark - Street Lights On</td>\n      <td>N</td>\n      <td>N</td>\n      <td>N</td>\n      <td>N</td>\n      <td>2</td>\n    </tr>\n    <tr>\n      <th>2</th>\n      <td>Overcast</td>\n      <td>1</td>\n      <td>Dry</td>\n      <td>Daylight</td>\n      <td>N</td>\n      <td>N</td>\n      <td>N</td>\n      <td>N</td>\n      <td>4</td>\n    </tr>\n    <tr>\n      <th>3</th>\n      <td>Clear</td>\n      <td>1</td>\n      <td>Dry</td>\n      <td>Daylight</td>\n      <td>N</td>\n      <td>N</td>\n      <td>N</td>\n      <td>N</td>\n      <td>3</td>\n    </tr>\n    <tr>\n      <th>4</th>\n      <td>Raining</td>\n      <td>2</td>\n      <td>Wet</td>\n      <td>Daylight</td>\n      <td>N</td>\n      <td>N</td>\n      <td>N</td>\n      <td>N</td>\n      <td>2</td>\n    </tr>\n  </tbody>\n</table>\n</div>",
                        "text/plain": "    WEATHER  SEVERITYCODE ROADCOND                LIGHTCOND SPEEDING  \\\n0  Overcast             2      Wet                 Daylight        N   \n1   Raining             1      Wet  Dark - Street Lights On        N   \n2  Overcast             1      Dry                 Daylight        N   \n3     Clear             1      Dry                 Daylight        N   \n4   Raining             2      Wet                 Daylight        N   \n\n  HITPARKEDCAR UNDERINFL INATTENTIONIND  PERSONCOUNT  \n0            N         N              N            2  \n1            N         N              N            2  \n2            N         N              N            4  \n3            N         N              N            3  \n4            N         N              N            2  "
                    },
                    "execution_count": 16,
                    "metadata": {},
                    "output_type": "execute_result"
                }
            ],
            "source": "df.head()"
        },
        {
            "cell_type": "code",
            "execution_count": 17,
            "metadata": {},
            "outputs": [],
            "source": "df=df.dropna(subset=df.columns)\ndf=df.loc[df['ROADCOND'] != 'Other']\ndf=df.loc[df['ROADCOND'] != 'Unknown']\ndf=df.loc[df['LIGHTCOND'] != 'Unknown']\ndf=df.loc[df['LIGHTCOND'] != 'Other']\ndf=df.loc[df['WEATHER'] != 'Unknown']\ndf=df.loc[df['WEATHER'] != 'Other']"
        },
        {
            "cell_type": "code",
            "execution_count": 18,
            "metadata": {},
            "outputs": [
                {
                    "data": {
                        "text/plain": "(164154, 9)"
                    },
                    "execution_count": 18,
                    "metadata": {},
                    "output_type": "execute_result"
                }
            ],
            "source": "df.shape"
        },
        {
            "cell_type": "markdown",
            "metadata": {},
            "source": "### We are excluding incidents associated with drugs/alcohol, as the main reason for these is not associated with the weather conditions"
        },
        {
            "cell_type": "code",
            "execution_count": 19,
            "metadata": {},
            "outputs": [],
            "source": "df=df.loc[df['UNDERINFL'] == 'N']\ndf=df.drop(['UNDERINFL'],axis=1)"
        },
        {
            "cell_type": "code",
            "execution_count": 20,
            "metadata": {},
            "outputs": [
                {
                    "data": {
                        "text/plain": "(155368, 8)"
                    },
                    "execution_count": 20,
                    "metadata": {},
                    "output_type": "execute_result"
                }
            ],
            "source": "df.shape"
        },
        {
            "cell_type": "markdown",
            "metadata": {},
            "source": "### We are minimizing the light conditions labels, as they don't not provide much additional information to the research"
        },
        {
            "cell_type": "code",
            "execution_count": 21,
            "metadata": {},
            "outputs": [],
            "source": "df['LIGHTCOND'].replace('Daylight','Day',inplace=True)\ndf['LIGHTCOND'].replace('Dusk','Day',inplace=True)\ndf['LIGHTCOND'].replace('Dark - Street Lights On','Night',inplace=True)\ndf['LIGHTCOND'].replace('Dark - No Street Lights','Night',inplace=True)\ndf['LIGHTCOND'].replace('Dawn','Night',inplace=True)\ndf['LIGHTCOND'].replace('Dark - Street Lights Off','Night',inplace=True)\ndf['LIGHTCOND'].replace('Dark - Unknown Lighting','Night',inplace=True)"
        },
        {
            "cell_type": "markdown",
            "metadata": {},
            "source": "### We are getting rid of the redundant weather and road conditions"
        },
        {
            "cell_type": "code",
            "execution_count": 22,
            "metadata": {},
            "outputs": [],
            "source": "df['ROADCOND'].replace('Standing Water','Wet',inplace=True)\ndf['WEATHER'].replace('Overcast','Cloudy',inplace=True)\ndf['WEATHER'].replace('Partly Cloudy','Cloudy',inplace=True)"
        },
        {
            "cell_type": "code",
            "execution_count": 23,
            "metadata": {},
            "outputs": [
                {
                    "data": {
                        "text/html": "<div>\n<style scoped>\n    .dataframe tbody tr th:only-of-type {\n        vertical-align: middle;\n    }\n\n    .dataframe tbody tr th {\n        vertical-align: top;\n    }\n\n    .dataframe thead th {\n        text-align: right;\n    }\n</style>\n<table border=\"1\" class=\"dataframe\">\n  <thead>\n    <tr style=\"text-align: right;\">\n      <th></th>\n      <th>WEATHER</th>\n      <th>SEVERITYCODE</th>\n      <th>ROADCOND</th>\n      <th>LIGHTCOND</th>\n      <th>SPEEDING</th>\n      <th>HITPARKEDCAR</th>\n      <th>INATTENTIONIND</th>\n      <th>PERSONCOUNT</th>\n    </tr>\n  </thead>\n  <tbody>\n    <tr>\n      <th>0</th>\n      <td>Cloudy</td>\n      <td>2</td>\n      <td>Wet</td>\n      <td>Day</td>\n      <td>N</td>\n      <td>N</td>\n      <td>N</td>\n      <td>2</td>\n    </tr>\n    <tr>\n      <th>1</th>\n      <td>Raining</td>\n      <td>1</td>\n      <td>Wet</td>\n      <td>Night</td>\n      <td>N</td>\n      <td>N</td>\n      <td>N</td>\n      <td>2</td>\n    </tr>\n    <tr>\n      <th>2</th>\n      <td>Cloudy</td>\n      <td>1</td>\n      <td>Dry</td>\n      <td>Day</td>\n      <td>N</td>\n      <td>N</td>\n      <td>N</td>\n      <td>4</td>\n    </tr>\n    <tr>\n      <th>3</th>\n      <td>Clear</td>\n      <td>1</td>\n      <td>Dry</td>\n      <td>Day</td>\n      <td>N</td>\n      <td>N</td>\n      <td>N</td>\n      <td>3</td>\n    </tr>\n    <tr>\n      <th>4</th>\n      <td>Raining</td>\n      <td>2</td>\n      <td>Wet</td>\n      <td>Day</td>\n      <td>N</td>\n      <td>N</td>\n      <td>N</td>\n      <td>2</td>\n    </tr>\n  </tbody>\n</table>\n</div>",
                        "text/plain": "   WEATHER  SEVERITYCODE ROADCOND LIGHTCOND SPEEDING HITPARKEDCAR  \\\n0   Cloudy             2      Wet       Day        N            N   \n1  Raining             1      Wet     Night        N            N   \n2   Cloudy             1      Dry       Day        N            N   \n3    Clear             1      Dry       Day        N            N   \n4  Raining             2      Wet       Day        N            N   \n\n  INATTENTIONIND  PERSONCOUNT  \n0              N            2  \n1              N            2  \n2              N            4  \n3              N            3  \n4              N            2  "
                    },
                    "execution_count": 23,
                    "metadata": {},
                    "output_type": "execute_result"
                }
            ],
            "source": "df.head()"
        },
        {
            "cell_type": "code",
            "execution_count": 24,
            "metadata": {},
            "outputs": [
                {
                    "name": "stdout",
                    "output_type": "stream",
                    "text": "Unique values for the WEATHER:\n['Cloudy' 'Raining' 'Clear' 'Snowing' 'Fog/Smog/Smoke'\n 'Sleet/Hail/Freezing Rain' 'Blowing Sand/Dirt' 'Severe Crosswind']\n\nUnique values for the SEVERITYCODE:\n[2 1]\n\nUnique values for the ROADCOND:\n['Wet' 'Dry' 'Snow/Slush' 'Ice' 'Sand/Mud/Dirt' 'Oil']\n\nUnique values for the LIGHTCOND:\n['Day' 'Night']\n\nUnique values for the SPEEDING:\n['N' 'Y']\n\nUnique values for the HITPARKEDCAR:\n['N' 'Y']\n\nUnique values for the INATTENTIONIND:\n['N' 'Y']\n\n"
                }
            ],
            "source": "print('Unique values for the WEATHER:\\n%s\\n'% df['WEATHER'].unique())\nprint('Unique values for the SEVERITYCODE:\\n%s\\n'% df['SEVERITYCODE'].unique())\nprint('Unique values for the ROADCOND:\\n%s\\n'% df['ROADCOND'].unique())\nprint('Unique values for the LIGHTCOND:\\n%s\\n'% df['LIGHTCOND'].unique())\nprint('Unique values for the SPEEDING:\\n%s\\n'% df['SPEEDING'].unique())\nprint('Unique values for the HITPARKEDCAR:\\n%s\\n'% df['HITPARKEDCAR'].unique())\nprint('Unique values for the INATTENTIONIND:\\n%s\\n'% df['INATTENTIONIND'].unique())"
        },
        {
            "cell_type": "markdown",
            "metadata": {},
            "source": "### In terms of predicting the probability of the person getting into a car accident we need to add another column, which- based on the PERSONCOUNT column will tell us, whether people were involved or not."
        },
        {
            "cell_type": "code",
            "execution_count": 25,
            "metadata": {},
            "outputs": [
                {
                    "data": {
                        "text/plain": "(130676, 8)"
                    },
                    "execution_count": 25,
                    "metadata": {},
                    "output_type": "execute_result"
                }
            ],
            "source": "df=df.loc[df['WEATHER'] != 'Cloudy']\ndf.shape"
        },
        {
            "cell_type": "code",
            "execution_count": 26,
            "metadata": {},
            "outputs": [
                {
                    "data": {
                        "text/plain": "(130627, 8)"
                    },
                    "execution_count": 26,
                    "metadata": {},
                    "output_type": "execute_result"
                }
            ],
            "source": "df=df.loc[df['ROADCOND'] != 'Oil']\ndf.shape"
        },
        {
            "cell_type": "code",
            "execution_count": 27,
            "metadata": {},
            "outputs": [],
            "source": "df['PPLINVOLVED']=np.where(df['PERSONCOUNT']== 0, 'N', 'Y')"
        },
        {
            "cell_type": "code",
            "execution_count": 28,
            "metadata": {},
            "outputs": [],
            "source": "df.drop('PERSONCOUNT',axis=1,inplace=True)"
        },
        {
            "cell_type": "markdown",
            "metadata": {},
            "source": "### Converting string labels to numerical values together with data types cast"
        },
        {
            "cell_type": "code",
            "execution_count": 29,
            "metadata": {},
            "outputs": [
                {
                    "data": {
                        "text/html": "<div>\n<style scoped>\n    .dataframe tbody tr th:only-of-type {\n        vertical-align: middle;\n    }\n\n    .dataframe tbody tr th {\n        vertical-align: top;\n    }\n\n    .dataframe thead th {\n        text-align: right;\n    }\n</style>\n<table border=\"1\" class=\"dataframe\">\n  <thead>\n    <tr style=\"text-align: right;\">\n      <th></th>\n      <th>WEATHER</th>\n      <th>SEVERITYCODE</th>\n      <th>ROADCOND</th>\n      <th>LIGHTCOND</th>\n      <th>SPEEDING</th>\n      <th>HITPARKEDCAR</th>\n      <th>INATTENTIONIND</th>\n      <th>PPLINVOLVED</th>\n    </tr>\n  </thead>\n  <tbody>\n    <tr>\n      <th>1</th>\n      <td>Raining</td>\n      <td>0</td>\n      <td>Wet</td>\n      <td>0</td>\n      <td>0</td>\n      <td>0</td>\n      <td>0</td>\n      <td>1</td>\n    </tr>\n    <tr>\n      <th>3</th>\n      <td>Clear</td>\n      <td>0</td>\n      <td>Dry</td>\n      <td>1</td>\n      <td>0</td>\n      <td>0</td>\n      <td>0</td>\n      <td>1</td>\n    </tr>\n    <tr>\n      <th>4</th>\n      <td>Raining</td>\n      <td>1</td>\n      <td>Wet</td>\n      <td>1</td>\n      <td>0</td>\n      <td>0</td>\n      <td>0</td>\n      <td>1</td>\n    </tr>\n    <tr>\n      <th>5</th>\n      <td>Clear</td>\n      <td>0</td>\n      <td>Dry</td>\n      <td>1</td>\n      <td>0</td>\n      <td>0</td>\n      <td>0</td>\n      <td>1</td>\n    </tr>\n    <tr>\n      <th>6</th>\n      <td>Raining</td>\n      <td>0</td>\n      <td>Wet</td>\n      <td>1</td>\n      <td>0</td>\n      <td>0</td>\n      <td>0</td>\n      <td>1</td>\n    </tr>\n  </tbody>\n</table>\n</div>",
                        "text/plain": "   WEATHER  SEVERITYCODE ROADCOND LIGHTCOND SPEEDING HITPARKEDCAR  \\\n1  Raining             0      Wet         0        0            0   \n3    Clear             0      Dry         1        0            0   \n4  Raining             1      Wet         1        0            0   \n5    Clear             0      Dry         1        0            0   \n6  Raining             0      Wet         1        0            0   \n\n  INATTENTIONIND PPLINVOLVED  \n1              0           1  \n3              0           1  \n4              0           1  \n5              0           1  \n6              0           1  "
                    },
                    "execution_count": 29,
                    "metadata": {},
                    "output_type": "execute_result"
                }
            ],
            "source": "df=df.replace({'Y':'1','N':'0'})\ndf=df.replace({'Day':'1','Night':'0'})\n\ndf['SEVERITYCODE'].replace({1:0}, inplace=True) #converting labels to the more consistent binary format\ndf['SEVERITYCODE'].replace({2:1}, inplace=True) #converting labels to the more consistent binary format\ndf.head()"
        },
        {
            "cell_type": "code",
            "execution_count": 30,
            "metadata": {},
            "outputs": [],
            "source": "df['WEATHER'].replace('Sleet/Hail/Freezing Rain','Raining',inplace=True)\ndf['WEATHER'].replace('Blowing Sand/Dirt','Windy',inplace=True)\ndf['WEATHER'].replace('Severe Crosswind','Windy',inplace=True)"
        },
        {
            "cell_type": "code",
            "execution_count": 31,
            "metadata": {},
            "outputs": [
                {
                    "data": {
                        "text/plain": "Clear             99181\nRaining           30127\nSnowing             765\nFog/Smog/Smoke      492\nWindy                62\nName: WEATHER, dtype: int64"
                    },
                    "execution_count": 31,
                    "metadata": {},
                    "output_type": "execute_result"
                }
            ],
            "source": "df['WEATHER'].value_counts()"
        },
        {
            "cell_type": "code",
            "execution_count": 32,
            "metadata": {},
            "outputs": [],
            "source": "df=df.loc[df['WEATHER'] != 'Windy']"
        },
        {
            "cell_type": "code",
            "execution_count": 33,
            "metadata": {},
            "outputs": [
                {
                    "data": {
                        "text/plain": "Dry              96139\nWet              32941\nIce                798\nSnow/Slush         647\nSand/Mud/Dirt       40\nName: ROADCOND, dtype: int64"
                    },
                    "execution_count": 33,
                    "metadata": {},
                    "output_type": "execute_result"
                }
            ],
            "source": "df['ROADCOND'].value_counts()"
        },
        {
            "cell_type": "code",
            "execution_count": 34,
            "metadata": {},
            "outputs": [],
            "source": "df=df.loc[df['ROADCOND'] != 'Sand/Mud/Dirt']"
        },
        {
            "cell_type": "code",
            "execution_count": 35,
            "metadata": {},
            "outputs": [
                {
                    "name": "stdout",
                    "output_type": "stream",
                    "text": "Unique values for the WEATHER:\n['Raining' 'Clear' 'Snowing' 'Fog/Smog/Smoke']\n\nUnique values for the SEVERITYCODE:\n[0 1]\n\nUnique values for the ROADCOND:\n['Wet' 'Dry' 'Snow/Slush' 'Ice']\n\nUnique values for the LIGHTCOND:\n['0' '1']\n\nUnique values for the SPEEDING:\n['0' '1']\n\nUnique values for the HITPARKEDCAR:\n['0' '1']\n\nUnique values for the INATTENTIONIND:\n['0' '1']\n\n"
                }
            ],
            "source": "print('Unique values for the WEATHER:\\n%s\\n'% df['WEATHER'].unique())\nprint('Unique values for the SEVERITYCODE:\\n%s\\n'% df['SEVERITYCODE'].unique())\nprint('Unique values for the ROADCOND:\\n%s\\n'% df['ROADCOND'].unique())\nprint('Unique values for the LIGHTCOND:\\n%s\\n'% df['LIGHTCOND'].unique())\nprint('Unique values for the SPEEDING:\\n%s\\n'% df['SPEEDING'].unique())\nprint('Unique values for the HITPARKEDCAR:\\n%s\\n'% df['HITPARKEDCAR'].unique())\nprint('Unique values for the INATTENTIONIND:\\n%s\\n'% df['INATTENTIONIND'].unique())\n"
        },
        {
            "cell_type": "code",
            "execution_count": 36,
            "metadata": {},
            "outputs": [],
            "source": "df=df.join(pd.get_dummies(df['WEATHER']))"
        },
        {
            "cell_type": "code",
            "execution_count": 37,
            "metadata": {},
            "outputs": [],
            "source": "roadcond=pd.get_dummies(df['ROADCOND'])\nroadcond.rename(columns={'Wet':'ROAD_Wet', 'Dry':'ROAD_Dry', 'Snow/Slush':'ROAD_Snow', 'Ice':'ROAD_Ice', 'Sand/Mud/Dirt':'ROAD_Mud', 'Oil':'ROAD_Oil'}, inplace=True)\ndf.drop('WEATHER',axis=1,inplace=True)\ndf.drop('ROADCOND',axis=1,inplace=True)"
        },
        {
            "cell_type": "code",
            "execution_count": 38,
            "metadata": {},
            "outputs": [],
            "source": "df=df.join(roadcond)"
        },
        {
            "cell_type": "code",
            "execution_count": 39,
            "metadata": {},
            "outputs": [
                {
                    "data": {
                        "text/html": "<div>\n<style scoped>\n    .dataframe tbody tr th:only-of-type {\n        vertical-align: middle;\n    }\n\n    .dataframe tbody tr th {\n        vertical-align: top;\n    }\n\n    .dataframe thead th {\n        text-align: right;\n    }\n</style>\n<table border=\"1\" class=\"dataframe\">\n  <thead>\n    <tr style=\"text-align: right;\">\n      <th></th>\n      <th>SEVERITYCODE</th>\n      <th>LIGHTCOND</th>\n      <th>SPEEDING</th>\n      <th>HITPARKEDCAR</th>\n      <th>INATTENTIONIND</th>\n      <th>PPLINVOLVED</th>\n      <th>Clear</th>\n      <th>Fog/Smog/Smoke</th>\n      <th>Raining</th>\n      <th>Snowing</th>\n      <th>ROAD_Dry</th>\n      <th>ROAD_Ice</th>\n      <th>ROAD_Snow</th>\n      <th>ROAD_Wet</th>\n    </tr>\n  </thead>\n  <tbody>\n    <tr>\n      <th>1</th>\n      <td>0</td>\n      <td>0</td>\n      <td>0</td>\n      <td>0</td>\n      <td>0</td>\n      <td>1</td>\n      <td>0</td>\n      <td>0</td>\n      <td>1</td>\n      <td>0</td>\n      <td>0</td>\n      <td>0</td>\n      <td>0</td>\n      <td>1</td>\n    </tr>\n    <tr>\n      <th>3</th>\n      <td>0</td>\n      <td>1</td>\n      <td>0</td>\n      <td>0</td>\n      <td>0</td>\n      <td>1</td>\n      <td>1</td>\n      <td>0</td>\n      <td>0</td>\n      <td>0</td>\n      <td>1</td>\n      <td>0</td>\n      <td>0</td>\n      <td>0</td>\n    </tr>\n    <tr>\n      <th>4</th>\n      <td>1</td>\n      <td>1</td>\n      <td>0</td>\n      <td>0</td>\n      <td>0</td>\n      <td>1</td>\n      <td>0</td>\n      <td>0</td>\n      <td>1</td>\n      <td>0</td>\n      <td>0</td>\n      <td>0</td>\n      <td>0</td>\n      <td>1</td>\n    </tr>\n    <tr>\n      <th>5</th>\n      <td>0</td>\n      <td>1</td>\n      <td>0</td>\n      <td>0</td>\n      <td>0</td>\n      <td>1</td>\n      <td>1</td>\n      <td>0</td>\n      <td>0</td>\n      <td>0</td>\n      <td>1</td>\n      <td>0</td>\n      <td>0</td>\n      <td>0</td>\n    </tr>\n    <tr>\n      <th>6</th>\n      <td>0</td>\n      <td>1</td>\n      <td>0</td>\n      <td>0</td>\n      <td>0</td>\n      <td>1</td>\n      <td>0</td>\n      <td>0</td>\n      <td>1</td>\n      <td>0</td>\n      <td>0</td>\n      <td>0</td>\n      <td>0</td>\n      <td>1</td>\n    </tr>\n  </tbody>\n</table>\n</div>",
                        "text/plain": "   SEVERITYCODE  LIGHTCOND  SPEEDING  HITPARKEDCAR  INATTENTIONIND  \\\n1             0          0         0             0               0   \n3             0          1         0             0               0   \n4             1          1         0             0               0   \n5             0          1         0             0               0   \n6             0          1         0             0               0   \n\n   PPLINVOLVED  Clear  Fog/Smog/Smoke  Raining  Snowing  ROAD_Dry  ROAD_Ice  \\\n1            1      0               0        1        0         0         0   \n3            1      1               0        0        0         1         0   \n4            1      0               0        1        0         0         0   \n5            1      1               0        0        0         1         0   \n6            1      0               0        1        0         0         0   \n\n   ROAD_Snow  ROAD_Wet  \n1          0         1  \n3          0         0  \n4          0         1  \n5          0         0  \n6          0         1  "
                    },
                    "execution_count": 39,
                    "metadata": {},
                    "output_type": "execute_result"
                }
            ],
            "source": "df=df.astype('int64')\ndf.columns\ndf.head()"
        },
        {
            "cell_type": "markdown",
            "metadata": {},
            "source": "### We need to divide our dataset into 2 parts: prediction of the <u>car accident involving people</u>, depending on the weather and road conditions, and prediction of the <u>car accident severity</u>, depending on the weather and road conditions."
        },
        {
            "cell_type": "code",
            "execution_count": 52,
            "metadata": {},
            "outputs": [
                {
                    "name": "stdout",
                    "output_type": "stream",
                    "text": "0    88258\n1    42267\nName: SEVERITYCODE, dtype: int64\n1    126079\n0      4446\nName: PPLINVOLVED, dtype: int64\n"
                },
                {
                    "data": {
                        "text/plain": "(130525, 14)"
                    },
                    "execution_count": 52,
                    "metadata": {},
                    "output_type": "execute_result"
                }
            ],
            "source": "dfsev=df.loc[df['PPLINVOLVED'] == 1]\n\nXppl=np.asarray(df[['Clear','Fog/Smog/Smoke','Raining','Snowing','ROAD_Dry','ROAD_Ice','ROAD_Snow','ROAD_Wet']])\n\nXsev=np.asarray(dfsev[['Clear','Fog/Smog/Smoke','Raining','Snowing','ROAD_Dry','ROAD_Ice','ROAD_Snow','ROAD_Wet']])\n\nYppl=np.asarray(df['PPLINVOLVED'])\n\nYsev=np.asarray(dfsev['SEVERITYCODE'])\n"
        },
        {
            "cell_type": "code",
            "execution_count": 53,
            "metadata": {},
            "outputs": [
                {
                    "name": "stdout",
                    "output_type": "stream",
                    "text": "Train set: (104420, 8) (104420,)\nTest set: (26105, 8) (26105,)\n"
                }
            ],
            "source": "from sklearn.model_selection import train_test_split\nXppl_train, Xppl_test, Yppl_train, Yppl_test = train_test_split( Xppl, Yppl, test_size=0.2, random_state=4)\nprint ('Train set:', Xppl_train.shape,  Yppl_train.shape)\nprint ('Test set:', Xppl_test.shape,  Yppl_test.shape)"
        },
        {
            "cell_type": "code",
            "execution_count": 54,
            "metadata": {},
            "outputs": [
                {
                    "name": "stdout",
                    "output_type": "stream",
                    "text": "Train set: (100863, 8) (100863,)\nTest set: (25216, 8) (25216,)\n"
                }
            ],
            "source": "Xsev_train, Xsev_test, Ysev_train, Ysev_test = train_test_split( Xsev, Ysev, test_size=0.2, random_state=4)\nprint ('Train set:', Xsev_train.shape,  Ysev_train.shape)\nprint ('Test set:', Xsev_test.shape,  Ysev_test.shape)"
        },
        {
            "cell_type": "code",
            "execution_count": 97,
            "metadata": {},
            "outputs": [
                {
                    "data": {
                        "text/plain": "LogisticRegression(C=0.01, class_weight=None, dual=False, fit_intercept=False,\n          intercept_scaling=1, max_iter=100, multi_class='ovr',\n          n_jobs=None, penalty='l2', random_state=None, solver='sag',\n          tol=0.0001, verbose=0, warm_start=False)"
                    },
                    "execution_count": 97,
                    "metadata": {},
                    "output_type": "execute_result"
                }
            ],
            "source": "from sklearn.linear_model import LogisticRegression\nfrom sklearn.metrics import confusion_matrix\nLR1 = LogisticRegression(C=0.01, solver='sag',multi_class='ovr',fit_intercept=False).fit(Xppl_train,Yppl_train)\nLR1"
        },
        {
            "cell_type": "code",
            "execution_count": 98,
            "metadata": {},
            "outputs": [
                {
                    "data": {
                        "text/plain": "LogisticRegression(C=0.01, class_weight=None, dual=False, fit_intercept=False,\n          intercept_scaling=1, max_iter=100, multi_class='ovr',\n          n_jobs=None, penalty='l2', random_state=None, solver='sag',\n          tol=0.0001, verbose=0, warm_start=False)"
                    },
                    "execution_count": 98,
                    "metadata": {},
                    "output_type": "execute_result"
                }
            ],
            "source": "from sklearn.linear_model import LogisticRegression\nfrom sklearn.metrics import confusion_matrix\nLR2 = LogisticRegression(C=0.01, solver='sag',multi_class='ovr',fit_intercept=False).fit(Xsev_train,Ysev_train)\nLR2"
        },
        {
            "cell_type": "code",
            "execution_count": 99,
            "metadata": {},
            "outputs": [
                {
                    "data": {
                        "text/plain": "0.9655238460065122"
                    },
                    "execution_count": 99,
                    "metadata": {},
                    "output_type": "execute_result"
                }
            ],
            "source": "yhat = LR1.predict(Xppl_test)\nfrom sklearn.metrics import jaccard_similarity_score\njaccard_similarity_score(Yppl_test, yhat)"
        },
        {
            "cell_type": "code",
            "execution_count": 100,
            "metadata": {},
            "outputs": [
                {
                    "data": {
                        "text/plain": "0.679251269035533"
                    },
                    "execution_count": 100,
                    "metadata": {},
                    "output_type": "execute_result"
                }
            ],
            "source": "yhat2 = LR2.predict(Xsev_test)\nfrom sklearn.metrics import jaccard_similarity_score\njaccard_similarity_score(Ysev_test, yhat2)"
        },
        {
            "cell_type": "code",
            "execution_count": 101,
            "metadata": {},
            "outputs": [
                {
                    "name": "stdout",
                    "output_type": "stream",
                    "text": "[[25205     0]\n [  900     0]]\n"
                }
            ],
            "source": "import itertools\ndef plot_confusion_matrix(cm, classes,\n                          normalize=False,\n                          title='Confusion matrix',\n                          cmap=plt.cm.Blues):\n    \"\"\"\n    This function prints and plots the confusion matrix.\n    Normalization can be applied by setting `normalize=True`.\n    \"\"\"\n    if normalize:\n        cm = cm.astype('float') / cm.sum(axis=1)[:, np.newaxis]\n        print(\"Normalized confusion matrix\")\n    else:\n        print('Confusion matrix, without normalization')\n\n    print(cm)\n\n    plt.imshow(cm, interpolation='nearest', cmap=cmap)\n    plt.title(title)\n    plt.colorbar()\n    tick_marks = np.arange(len(classes))\n    plt.xticks(tick_marks, classes, rotation=45)\n    plt.yticks(tick_marks, classes)\n\n    fmt = '.2f' if normalize else 'd'\n    thresh = cm.max() / 2.\n    for i, j in itertools.product(range(cm.shape[0]), range(cm.shape[1])):\n        plt.text(j, i, format(cm[i, j], fmt),\n                 horizontalalignment=\"center\",\n                 color=\"white\" if cm[i, j] > thresh else \"black\")\n\n    plt.tight_layout()\n    plt.ylabel('True label')\n    plt.xlabel('Predicted label')\nprint(confusion_matrix(Yppl_test, yhat, labels=[1,0]))"
        },
        {
            "cell_type": "code",
            "execution_count": 102,
            "metadata": {},
            "outputs": [
                {
                    "name": "stdout",
                    "output_type": "stream",
                    "text": "Confusion matrix, without normalization\n[[25205     0]\n [  900     0]]\n"
                },
                {
                    "data": {
                        "image/png": "[encoded data removed]",
                        "text/plain": "<Figure size 432x288 with 2 Axes>"
                    },
                    "metadata": {
                        "needs_background": "light"
                    },
                    "output_type": "display_data"
                }
            ],
            "source": "plot_confusion_matrix(confusion_matrix(Yppl_test, yhat, labels=[1,0]),[1,0],normalize=False)"
        },
        {
            "cell_type": "code",
            "execution_count": 103,
            "metadata": {},
            "outputs": [
                {
                    "name": "stdout",
                    "output_type": "stream",
                    "text": "[[    0  8088]\n [    0 17128]]\n"
                }
            ],
            "source": "print(confusion_matrix(Ysev_test, yhat2, labels=[1,0]))"
        },
        {
            "cell_type": "code",
            "execution_count": 104,
            "metadata": {},
            "outputs": [
                {
                    "name": "stdout",
                    "output_type": "stream",
                    "text": "Confusion matrix, without normalization\n[[    0  8088]\n [    0 17128]]\n"
                },
                {
                    "data": {
                        "image/png": "[encoded data removed]",
                        "text/plain": "<Figure size 432x288 with 2 Axes>"
                    },
                    "metadata": {
                        "needs_background": "light"
                    },
                    "output_type": "display_data"
                }
            ],
            "source": "plot_confusion_matrix(confusion_matrix(Ysev_test, yhat2, labels=[1,0]),[1,0],normalize=False)"
        },
        {
            "cell_type": "code",
            "execution_count": 93,
            "metadata": {},
            "outputs": [
                {
                    "name": "stdout",
                    "output_type": "stream",
                    "text": "              precision    recall  f1-score   support\n\n           0       0.00      0.00      0.00       900\n           1       0.97      1.00      0.98     25205\n\n   micro avg       0.97      0.97      0.97     26105\n   macro avg       0.48      0.50      0.49     26105\nweighted avg       0.93      0.97      0.95     26105\n\n"
                },
                {
                    "name": "stderr",
                    "output_type": "stream",
                    "text": "/opt/conda/envs/Python36/lib/python3.6/site-packages/sklearn/metrics/classification.py:1143: UndefinedMetricWarning: Precision and F-score are ill-defined and being set to 0.0 in labels with no predicted samples.\n  'precision', 'predicted', average, warn_for)\n"
                }
            ],
            "source": "from sklearn.metrics import classification_report\nprint (classification_report(Yppl_test, yhat))"
        },
        {
            "cell_type": "code",
            "execution_count": 94,
            "metadata": {},
            "outputs": [
                {
                    "name": "stdout",
                    "output_type": "stream",
                    "text": "              precision    recall  f1-score   support\n\n           0       0.68      1.00      0.81     17128\n           1       0.00      0.00      0.00      8088\n\n   micro avg       0.68      0.68      0.68     25216\n   macro avg       0.34      0.50      0.40     25216\nweighted avg       0.46      0.68      0.55     25216\n\n"
                }
            ],
            "source": "print (classification_report(Ysev_test, yhat2))"
        },
        {
            "cell_type": "code",
            "execution_count": 105,
            "metadata": {},
            "outputs": [
                {
                    "data": {
                        "text/plain": "array([[0.03915326, 0.96084674],\n       [0.03915326, 0.96084674],\n       [0.03915326, 0.96084674],\n       ...,\n       [0.03915326, 0.96084674],\n       [0.03915326, 0.96084674],\n       [0.03100459, 0.96899541]])"
                    },
                    "execution_count": 105,
                    "metadata": {},
                    "output_type": "execute_result"
                }
            ],
            "source": "yhat_prob = LR1.predict_proba(Xppl_test)\nyhat_prob"
        },
        {
            "cell_type": "code",
            "execution_count": 106,
            "metadata": {},
            "outputs": [
                {
                    "data": {
                        "text/plain": "array([[0.67754642, 0.32245358],\n       [0.66227156, 0.33772844],\n       [0.67754642, 0.32245358],\n       ...,\n       [0.67754642, 0.32245358],\n       [0.67754642, 0.32245358],\n       [0.67754642, 0.32245358]])"
                    },
                    "execution_count": 106,
                    "metadata": {},
                    "output_type": "execute_result"
                }
            ],
            "source": "yhat2_prob = LR2.predict_proba(Xsev_test)\nyhat2_prob"
        },
        {
            "cell_type": "code",
            "execution_count": 107,
            "metadata": {},
            "outputs": [
                {
                    "data": {
                        "text/plain": "0.15089624671231222"
                    },
                    "execution_count": 107,
                    "metadata": {},
                    "output_type": "execute_result"
                }
            ],
            "source": "from sklearn.metrics import log_loss\nlog_loss(Yppl_test, yhat_prob)"
        },
        {
            "cell_type": "code",
            "execution_count": 108,
            "metadata": {},
            "outputs": [
                {
                    "data": {
                        "text/plain": "0.6272198107215652"
                    },
                    "execution_count": 108,
                    "metadata": {},
                    "output_type": "execute_result"
                }
            ],
            "source": "log_loss(Ysev_test, yhat2_prob)"
        },
        {
            "cell_type": "code",
            "execution_count": null,
            "metadata": {},
            "outputs": [],
            "source": "param_grid = {'C': [0.001, 0.01, 0.1, 1, 10, 100, 1000] }\nclf = GridSearchCV(LogisticRegression(penalty='l2'), param_grid)"
        },
        {
            "cell_type": "markdown",
            "metadata": {},
            "source": "# wykresy z martlpotliba dla niektorych atrybutow"
        }
    ],
    "metadata": {
        "kernelspec": {
            "display_name": "Python 3.6",
            "language": "python",
            "name": "python3"
        },
        "language_info": {
            "codemirror_mode": {
                "name": "ipython",
                "version": 3
            },
            "file_extension": ".py",
            "mimetype": "text/x-python",
            "name": "python",
            "nbconvert_exporter": "python",
            "pygments_lexer": "ipython3",
            "version": "3.6.9"
        }
    },
    "nbformat": 4,
    "nbformat_minor": 1
}