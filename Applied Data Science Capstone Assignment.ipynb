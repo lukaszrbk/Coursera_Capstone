{
    "cells": [
        {
            "cell_type": "markdown",
            "metadata": {
                "collapsed": true
            },
            "source": "# <font color='darkgreen'>Applied data science capstone- final assignment project</font>"
        },
        {
            "cell_type": "markdown",
            "metadata": {},
            "source": "---"
        },
        {
            "cell_type": "markdown",
            "metadata": {},
            "source": "## <font color='green'>Introduction</font>"
        },
        {
            "cell_type": "markdown",
            "metadata": {},
            "source": "Traffic accidents have an adverse effect both on an individual and societal level resulting in costs due to person injuries and property damage, increased travel times and emissions due to congestion.\n\nAlthough the outcome of one accident can be very different to another, the underlying cause can be very similar. Roads shrouded in dense fog can make driving incredibly dangerous, limiting visibility of the looming road ahead. Large amounts of rain or snowfall can also provide treacherous driving conditions which will affect a great number of road users.\n\nThe question is:"
        },
        {
            "cell_type": "markdown",
            "metadata": {},
            "source": "### <i>Given the weather and the road conditions- what is the possibility of a person getting into a car accident and how severe it would be, so that he/she would drive more carefully or even change his/her travel if he/she is able to.</i>"
        },
        {
            "cell_type": "markdown",
            "metadata": {},
            "source": "#### Target audience for the presented research will be all of the people with the driving license."
        },
        {
            "cell_type": "markdown",
            "metadata": {},
            "source": "---"
        },
        {
            "cell_type": "markdown",
            "metadata": {},
            "source": "## <font color='green'>Data description</font>"
        },
        {
            "cell_type": "markdown",
            "metadata": {},
            "source": "#### High level description"
        },
        {
            "cell_type": "markdown",
            "metadata": {},
            "source": "The dataset covers all types collisions (events gathered from 2004 till now) provided with such information as severity of the accident, weather or an indication, that the accident involved hitting the parked car or whether the driver was under the influence of drug or alcohol (to distingush accidents that not neccessarily have to be connected with weather conditions)."
        },
        {
            "cell_type": "markdown",
            "metadata": {},
            "source": "#### Features details"
        },
        {
            "cell_type": "markdown",
            "metadata": {},
            "source": "<b>SEVERITYCODE</b>- a code that corresponds to the severity of the collision: 3-fatality;2b-serious injury;2-injury;1-prop damage;0-unknown<br>\n<b>UNDERINFL</b>- whether or not a driver involved was under the influence of drugs or alcohol<br>\n<b>WEATHER</b>- a description of the weather conditions during the time of the collision<br>\n<b>ROADCOND</b>- the condition of the road during the collision<br>\n<b>LIGHTCOND</b>- the light conditions during the collision<br>\n<b>SPEEDING</b>- whether or not speeding was a factor in the collision<br>\n<b>HITPARKEDCAR</b>- whether or not the collision involved hitting a parked car<br>\n<b>INATTENTIONIND</b>- whether or not collision was due to innatention"
        },
        {
            "cell_type": "markdown",
            "metadata": {},
            "source": "#### Example"
        },
        {
            "cell_type": "code",
            "execution_count": 91,
            "metadata": {},
            "outputs": [
                {
                    "data": {
                        "text/html": "<div>\n<style scoped>\n    .dataframe tbody tr th:only-of-type {\n        vertical-align: middle;\n    }\n\n    .dataframe tbody tr th {\n        vertical-align: top;\n    }\n\n    .dataframe thead th {\n        text-align: right;\n    }\n</style>\n<table border=\"1\" class=\"dataframe\">\n  <thead>\n    <tr style=\"text-align: right;\">\n      <th></th>\n      <th>WEATHER</th>\n      <th>SEVERITYCODE</th>\n      <th>ROADCOND</th>\n      <th>LIGHTCOND</th>\n      <th>SPEEDING</th>\n      <th>HITPARKEDCAR</th>\n      <th>UNDERINFL</th>\n      <th>INATTENTIONIND</th>\n    </tr>\n  </thead>\n  <tbody>\n    <tr>\n      <th>4</th>\n      <td>Raining</td>\n      <td>2</td>\n      <td>Wet</td>\n      <td>Daylight</td>\n      <td>N</td>\n      <td>N</td>\n      <td>N</td>\n      <td>N</td>\n    </tr>\n  </tbody>\n</table>\n</div>",
                        "text/plain": "   WEATHER  SEVERITYCODE ROADCOND LIGHTCOND SPEEDING HITPARKEDCAR UNDERINFL  \\\n4  Raining             2      Wet  Daylight        N            N         N   \n\n  INATTENTIONIND  \n4              N  "
                    },
                    "execution_count": 91,
                    "metadata": {},
                    "output_type": "execute_result"
                }
            ],
            "source": "df[4:5]"
        },
        {
            "cell_type": "markdown",
            "metadata": {},
            "source": "Example shown above illustrates the incident resulting with injuries. No parked vehicles were taking part in the event and speeding or drugs/alcohol were not the reason. Incident occured in the daylight, but probably wet road conditions and rainy weather were the root cause."
        },
        {
            "cell_type": "markdown",
            "metadata": {},
            "source": "---"
        },
        {
            "cell_type": "markdown",
            "metadata": {},
            "source": "## <font color='green'>Data preparation</font>"
        },
        {
            "cell_type": "markdown",
            "metadata": {},
            "source": "### Importing necessary modules"
        },
        {
            "cell_type": "code",
            "execution_count": 4,
            "metadata": {},
            "outputs": [],
            "source": "import pandas as pd\nimport pylab as pl\nimport numpy as np\nimport scipy.optimize as opt\nfrom sklearn import preprocessing\n%matplotlib inline \nimport matplotlib.pyplot as plt"
        },
        {
            "cell_type": "markdown",
            "metadata": {},
            "source": "### Reading the input dataset"
        },
        {
            "cell_type": "code",
            "execution_count": 112,
            "metadata": {},
            "outputs": [],
            "source": "# The code was removed by Watson Studio for sharing."
        },
        {
            "cell_type": "code",
            "execution_count": 113,
            "metadata": {},
            "outputs": [
                {
                    "name": "stderr",
                    "output_type": "stream",
                    "text": "/opt/conda/envs/Python36/lib/python3.6/site-packages/IPython/core/interactiveshell.py:3020: DtypeWarning: Columns (33) have mixed types. Specify dtype option on import or set low_memory=False.\n  interactivity=interactivity, compiler=compiler, result=result)\n"
                },
                {
                    "data": {
                        "text/html": "<div>\n<style scoped>\n    .dataframe tbody tr th:only-of-type {\n        vertical-align: middle;\n    }\n\n    .dataframe tbody tr th {\n        vertical-align: top;\n    }\n\n    .dataframe thead th {\n        text-align: right;\n    }\n</style>\n<table border=\"1\" class=\"dataframe\">\n  <thead>\n    <tr style=\"text-align: right;\">\n      <th></th>\n      <th>SEVERITYCODE</th>\n      <th>X</th>\n      <th>Y</th>\n      <th>OBJECTID</th>\n      <th>INCKEY</th>\n      <th>COLDETKEY</th>\n      <th>REPORTNO</th>\n      <th>STATUS</th>\n      <th>ADDRTYPE</th>\n      <th>INTKEY</th>\n      <th>...</th>\n      <th>ROADCOND</th>\n      <th>LIGHTCOND</th>\n      <th>PEDROWNOTGRNT</th>\n      <th>SDOTCOLNUM</th>\n      <th>SPEEDING</th>\n      <th>ST_COLCODE</th>\n      <th>ST_COLDESC</th>\n      <th>SEGLANEKEY</th>\n      <th>CROSSWALKKEY</th>\n      <th>HITPARKEDCAR</th>\n    </tr>\n  </thead>\n  <tbody>\n    <tr>\n      <th>0</th>\n      <td>2</td>\n      <td>-122.323148</td>\n      <td>47.703140</td>\n      <td>1</td>\n      <td>1307</td>\n      <td>1307</td>\n      <td>3502005</td>\n      <td>Matched</td>\n      <td>Intersection</td>\n      <td>37475.0</td>\n      <td>...</td>\n      <td>Wet</td>\n      <td>Daylight</td>\n      <td>NaN</td>\n      <td>NaN</td>\n      <td>NaN</td>\n      <td>10</td>\n      <td>Entering at angle</td>\n      <td>0</td>\n      <td>0</td>\n      <td>N</td>\n    </tr>\n    <tr>\n      <th>1</th>\n      <td>1</td>\n      <td>-122.347294</td>\n      <td>47.647172</td>\n      <td>2</td>\n      <td>52200</td>\n      <td>52200</td>\n      <td>2607959</td>\n      <td>Matched</td>\n      <td>Block</td>\n      <td>NaN</td>\n      <td>...</td>\n      <td>Wet</td>\n      <td>Dark - Street Lights On</td>\n      <td>NaN</td>\n      <td>6354039.0</td>\n      <td>NaN</td>\n      <td>11</td>\n      <td>From same direction - both going straight - bo...</td>\n      <td>0</td>\n      <td>0</td>\n      <td>N</td>\n    </tr>\n    <tr>\n      <th>2</th>\n      <td>1</td>\n      <td>-122.334540</td>\n      <td>47.607871</td>\n      <td>3</td>\n      <td>26700</td>\n      <td>26700</td>\n      <td>1482393</td>\n      <td>Matched</td>\n      <td>Block</td>\n      <td>NaN</td>\n      <td>...</td>\n      <td>Dry</td>\n      <td>Daylight</td>\n      <td>NaN</td>\n      <td>4323031.0</td>\n      <td>NaN</td>\n      <td>32</td>\n      <td>One parked--one moving</td>\n      <td>0</td>\n      <td>0</td>\n      <td>N</td>\n    </tr>\n    <tr>\n      <th>3</th>\n      <td>1</td>\n      <td>-122.334803</td>\n      <td>47.604803</td>\n      <td>4</td>\n      <td>1144</td>\n      <td>1144</td>\n      <td>3503937</td>\n      <td>Matched</td>\n      <td>Block</td>\n      <td>NaN</td>\n      <td>...</td>\n      <td>Dry</td>\n      <td>Daylight</td>\n      <td>NaN</td>\n      <td>NaN</td>\n      <td>NaN</td>\n      <td>23</td>\n      <td>From same direction - all others</td>\n      <td>0</td>\n      <td>0</td>\n      <td>N</td>\n    </tr>\n    <tr>\n      <th>4</th>\n      <td>2</td>\n      <td>-122.306426</td>\n      <td>47.545739</td>\n      <td>5</td>\n      <td>17700</td>\n      <td>17700</td>\n      <td>1807429</td>\n      <td>Matched</td>\n      <td>Intersection</td>\n      <td>34387.0</td>\n      <td>...</td>\n      <td>Wet</td>\n      <td>Daylight</td>\n      <td>NaN</td>\n      <td>4028032.0</td>\n      <td>NaN</td>\n      <td>10</td>\n      <td>Entering at angle</td>\n      <td>0</td>\n      <td>0</td>\n      <td>N</td>\n    </tr>\n  </tbody>\n</table>\n<p>5 rows \u00d7 38 columns</p>\n</div>",
                        "text/plain": "   SEVERITYCODE           X          Y  OBJECTID  INCKEY  COLDETKEY REPORTNO  \\\n0             2 -122.323148  47.703140         1    1307       1307  3502005   \n1             1 -122.347294  47.647172         2   52200      52200  2607959   \n2             1 -122.334540  47.607871         3   26700      26700  1482393   \n3             1 -122.334803  47.604803         4    1144       1144  3503937   \n4             2 -122.306426  47.545739         5   17700      17700  1807429   \n\n    STATUS      ADDRTYPE   INTKEY  ... ROADCOND                LIGHTCOND  \\\n0  Matched  Intersection  37475.0  ...      Wet                 Daylight   \n1  Matched         Block      NaN  ...      Wet  Dark - Street Lights On   \n2  Matched         Block      NaN  ...      Dry                 Daylight   \n3  Matched         Block      NaN  ...      Dry                 Daylight   \n4  Matched  Intersection  34387.0  ...      Wet                 Daylight   \n\n  PEDROWNOTGRNT  SDOTCOLNUM SPEEDING ST_COLCODE  \\\n0           NaN         NaN      NaN         10   \n1           NaN   6354039.0      NaN         11   \n2           NaN   4323031.0      NaN         32   \n3           NaN         NaN      NaN         23   \n4           NaN   4028032.0      NaN         10   \n\n                                          ST_COLDESC  SEGLANEKEY  \\\n0                                  Entering at angle           0   \n1  From same direction - both going straight - bo...           0   \n2                             One parked--one moving           0   \n3                   From same direction - all others           0   \n4                                  Entering at angle           0   \n\n   CROSSWALKKEY  HITPARKEDCAR  \n0             0             N  \n1             0             N  \n2             0             N  \n3             0             N  \n4             0             N  \n\n[5 rows x 38 columns]"
                    },
                    "execution_count": 113,
                    "metadata": {},
                    "output_type": "execute_result"
                }
            ],
            "source": "fullcoll_df = pd.read_csv(body)\nfullcoll_df.head()"
        },
        {
            "cell_type": "markdown",
            "metadata": {},
            "source": "### Picking needed columns"
        },
        {
            "cell_type": "code",
            "execution_count": 192,
            "metadata": {},
            "outputs": [
                {
                    "data": {
                        "text/html": "<div>\n<style scoped>\n    .dataframe tbody tr th:only-of-type {\n        vertical-align: middle;\n    }\n\n    .dataframe tbody tr th {\n        vertical-align: top;\n    }\n\n    .dataframe thead th {\n        text-align: right;\n    }\n</style>\n<table border=\"1\" class=\"dataframe\">\n  <thead>\n    <tr style=\"text-align: right;\">\n      <th></th>\n      <th>WEATHER</th>\n      <th>SEVERITYCODE</th>\n      <th>ROADCOND</th>\n      <th>LIGHTCOND</th>\n      <th>SPEEDING</th>\n      <th>HITPARKEDCAR</th>\n      <th>UNDERINFL</th>\n      <th>INATTENTIONIND</th>\n    </tr>\n  </thead>\n  <tbody>\n    <tr>\n      <th>0</th>\n      <td>Overcast</td>\n      <td>2</td>\n      <td>Wet</td>\n      <td>Daylight</td>\n      <td>NaN</td>\n      <td>N</td>\n      <td>N</td>\n      <td>NaN</td>\n    </tr>\n    <tr>\n      <th>1</th>\n      <td>Raining</td>\n      <td>1</td>\n      <td>Wet</td>\n      <td>Dark - Street Lights On</td>\n      <td>NaN</td>\n      <td>N</td>\n      <td>0</td>\n      <td>NaN</td>\n    </tr>\n    <tr>\n      <th>2</th>\n      <td>Overcast</td>\n      <td>1</td>\n      <td>Dry</td>\n      <td>Daylight</td>\n      <td>NaN</td>\n      <td>N</td>\n      <td>0</td>\n      <td>NaN</td>\n    </tr>\n    <tr>\n      <th>3</th>\n      <td>Clear</td>\n      <td>1</td>\n      <td>Dry</td>\n      <td>Daylight</td>\n      <td>NaN</td>\n      <td>N</td>\n      <td>N</td>\n      <td>NaN</td>\n    </tr>\n    <tr>\n      <th>4</th>\n      <td>Raining</td>\n      <td>2</td>\n      <td>Wet</td>\n      <td>Daylight</td>\n      <td>NaN</td>\n      <td>N</td>\n      <td>0</td>\n      <td>NaN</td>\n    </tr>\n  </tbody>\n</table>\n</div>",
                        "text/plain": "    WEATHER  SEVERITYCODE ROADCOND                LIGHTCOND SPEEDING  \\\n0  Overcast             2      Wet                 Daylight      NaN   \n1   Raining             1      Wet  Dark - Street Lights On      NaN   \n2  Overcast             1      Dry                 Daylight      NaN   \n3     Clear             1      Dry                 Daylight      NaN   \n4   Raining             2      Wet                 Daylight      NaN   \n\n  HITPARKEDCAR UNDERINFL INATTENTIONIND  \n0            N         N            NaN  \n1            N         0            NaN  \n2            N         0            NaN  \n3            N         N            NaN  \n4            N         0            NaN  "
                    },
                    "execution_count": 192,
                    "metadata": {},
                    "output_type": "execute_result"
                }
            ],
            "source": "df=fullcoll_df[['WEATHER','SEVERITYCODE','ROADCOND','LIGHTCOND','SPEEDING','HITPARKEDCAR','UNDERINFL','INATTENTIONIND']]\ndf.head()"
        },
        {
            "cell_type": "markdown",
            "metadata": {},
            "source": "### Counting null values"
        },
        {
            "cell_type": "code",
            "execution_count": 193,
            "metadata": {},
            "outputs": [
                {
                    "name": "stdout",
                    "output_type": "stream",
                    "text": "WEATHER             5081\nSEVERITYCODE           0\nROADCOND            5012\nLIGHTCOND           5170\nSPEEDING          185340\nHITPARKEDCAR           0\nUNDERINFL           4884\nINATTENTIONIND    164868\ndtype: int64\n(194673, 8)\n"
                }
            ],
            "source": "print(df.isnull().sum())\nprint(df.shape)"
        },
        {
            "cell_type": "markdown",
            "metadata": {},
            "source": "### Results show most NULL values in the Speeding and Inattentionind columns, but it is proven below, that these should be replaced by 'N' (as the only remaining value is 'Y')"
        },
        {
            "cell_type": "code",
            "execution_count": 194,
            "metadata": {},
            "outputs": [
                {
                    "name": "stdout",
                    "output_type": "stream",
                    "text": "Unique values for WEATHER:\n['Overcast' 'Raining' 'Clear' nan 'Unknown' 'Other' 'Snowing'\n 'Fog/Smog/Smoke' 'Sleet/Hail/Freezing Rain' 'Blowing Sand/Dirt'\n 'Severe Crosswind' 'Partly Cloudy']\n\nUnique values for SEVERITYCODE:\n[2 1]\n\nUnique values for ROADCOND:\n['Wet' 'Dry' nan 'Unknown' 'Snow/Slush' 'Ice' 'Other' 'Sand/Mud/Dirt'\n 'Standing Water' 'Oil']\n\nUnique values for LIGHTCOND:\n['Daylight' 'Dark - Street Lights On' 'Dark - No Street Lights' nan\n 'Unknown' 'Dusk' 'Dawn' 'Dark - Street Lights Off' 'Other'\n 'Dark - Unknown Lighting']\n\nUnique values for SPEEDING:\n[nan 'Y']\n\nUnique values for HITPARKEDCAR:\n['N' 'Y']\n\nUnique values for UNDERINFL:\n['N' '0' nan '1' 'Y']\n\nUnique values for INATTENTIONIND:\n[nan 'Y']\n\n"
                }
            ],
            "source": "print('Unique values for the WEATHER:\\n%s\\n'% df['WEATHER'].unique())\nprint('Unique values for the SEVERITYCODE:\\n%s\\n'% df['SEVERITYCODE'].unique())\nprint('Unique values for the ROADCOND:\\n%s\\n'% df['ROADCOND'].unique())\nprint('Unique values for the LIGHTCOND:\\n%s\\n'% df['LIGHTCOND'].unique())\nprint('Unique values for the SPEEDING:\\n%s\\n'% df['SPEEDING'].unique())\nprint('Unique values for the HITPARKEDCAR:\\n%s\\n'% df['HITPARKEDCAR'].unique())\nprint('Unique values for the UNDERINFL:\\n%s\\n'% df['UNDERINFL'].unique())\nprint('Unique values for the INATTENTIONIND:\\n%s\\n'% df['INATTENTIONIND'].unique())"
        },
        {
            "cell_type": "markdown",
            "metadata": {},
            "source": "### After finding unique labels, when it comes to the severity, we are dealing only with injuries or property damage. We need to remove 'Other' \u00e1nd 'Unknown' road conditions as they are not informative enough. The same goes for 'nan','Unknown' and '\u00d3ther' light conditions and 'nan','Other' and 'Unknown' in the 'Weather' column. In the column 'Speeding', we are dealing only with 'nan' or 'Y'- therefore we can assume, that 'nan' can be replaced by 'N'- we need to treat the data from 'INATTENTIONIND' analogically. In the column 'Underinfl' we need to remove 'nan' values, replace 0 with 'N' and 1 with 'Y'."
        },
        {
            "cell_type": "code",
            "execution_count": 195,
            "metadata": {},
            "outputs": [],
            "source": "df['INATTENTIONIND'].fillna('N',inplace=True)\ndf['SPEEDING'].fillna('N',inplace=True)\ndf['UNDERINFL'].replace(to_replace=\"0\", value=\"N\",inplace=True)\ndf['UNDERINFL'].replace(to_replace=\"1\", value=\"Y\",inplace=True)"
        },
        {
            "cell_type": "code",
            "execution_count": 196,
            "metadata": {},
            "outputs": [
                {
                    "data": {
                        "text/html": "<div>\n<style scoped>\n    .dataframe tbody tr th:only-of-type {\n        vertical-align: middle;\n    }\n\n    .dataframe tbody tr th {\n        vertical-align: top;\n    }\n\n    .dataframe thead th {\n        text-align: right;\n    }\n</style>\n<table border=\"1\" class=\"dataframe\">\n  <thead>\n    <tr style=\"text-align: right;\">\n      <th></th>\n      <th>WEATHER</th>\n      <th>SEVERITYCODE</th>\n      <th>ROADCOND</th>\n      <th>LIGHTCOND</th>\n      <th>SPEEDING</th>\n      <th>HITPARKEDCAR</th>\n      <th>UNDERINFL</th>\n      <th>INATTENTIONIND</th>\n    </tr>\n  </thead>\n  <tbody>\n    <tr>\n      <th>0</th>\n      <td>Overcast</td>\n      <td>2</td>\n      <td>Wet</td>\n      <td>Daylight</td>\n      <td>N</td>\n      <td>N</td>\n      <td>N</td>\n      <td>N</td>\n    </tr>\n    <tr>\n      <th>1</th>\n      <td>Raining</td>\n      <td>1</td>\n      <td>Wet</td>\n      <td>Dark - Street Lights On</td>\n      <td>N</td>\n      <td>N</td>\n      <td>N</td>\n      <td>N</td>\n    </tr>\n    <tr>\n      <th>2</th>\n      <td>Overcast</td>\n      <td>1</td>\n      <td>Dry</td>\n      <td>Daylight</td>\n      <td>N</td>\n      <td>N</td>\n      <td>N</td>\n      <td>N</td>\n    </tr>\n    <tr>\n      <th>3</th>\n      <td>Clear</td>\n      <td>1</td>\n      <td>Dry</td>\n      <td>Daylight</td>\n      <td>N</td>\n      <td>N</td>\n      <td>N</td>\n      <td>N</td>\n    </tr>\n    <tr>\n      <th>4</th>\n      <td>Raining</td>\n      <td>2</td>\n      <td>Wet</td>\n      <td>Daylight</td>\n      <td>N</td>\n      <td>N</td>\n      <td>N</td>\n      <td>N</td>\n    </tr>\n  </tbody>\n</table>\n</div>",
                        "text/plain": "    WEATHER  SEVERITYCODE ROADCOND                LIGHTCOND SPEEDING  \\\n0  Overcast             2      Wet                 Daylight        N   \n1   Raining             1      Wet  Dark - Street Lights On        N   \n2  Overcast             1      Dry                 Daylight        N   \n3     Clear             1      Dry                 Daylight        N   \n4   Raining             2      Wet                 Daylight        N   \n\n  HITPARKEDCAR UNDERINFL INATTENTIONIND  \n0            N         N              N  \n1            N         N              N  \n2            N         N              N  \n3            N         N              N  \n4            N         N              N  "
                    },
                    "execution_count": 196,
                    "metadata": {},
                    "output_type": "execute_result"
                }
            ],
            "source": "df.head()"
        },
        {
            "cell_type": "code",
            "execution_count": 197,
            "metadata": {},
            "outputs": [],
            "source": "df=df.dropna(subset=df.columns)\ndf=df.loc[df['ROADCOND'] != 'Other']\ndf=df.loc[df['ROADCOND'] != 'Unknown']\ndf=df.loc[df['LIGHTCOND'] != 'Unknown']\ndf=df.loc[df['LIGHTCOND'] != 'Other']\ndf=df.loc[df['WEATHER'] != 'Unknown']\ndf=df.loc[df['WEATHER'] != 'Other']"
        },
        {
            "cell_type": "code",
            "execution_count": 198,
            "metadata": {},
            "outputs": [
                {
                    "data": {
                        "text/plain": "(169957, 8)"
                    },
                    "execution_count": 198,
                    "metadata": {},
                    "output_type": "execute_result"
                }
            ],
            "source": "df.shape"
        },
        {
            "cell_type": "markdown",
            "metadata": {},
            "source": "### We are excluding incidents associated with drugs/alcohol, as the main reason for these is not associated with the weather conditions"
        },
        {
            "cell_type": "code",
            "execution_count": 200,
            "metadata": {},
            "outputs": [],
            "source": "df=df.loc[df['UNDERINFL'] == 'N']\ndf=df.drop(['UNDERINFL'],axis=1)"
        },
        {
            "cell_type": "code",
            "execution_count": 201,
            "metadata": {},
            "outputs": [
                {
                    "data": {
                        "text/plain": "(160977, 7)"
                    },
                    "execution_count": 201,
                    "metadata": {},
                    "output_type": "execute_result"
                }
            ],
            "source": "df.shape"
        },
        {
            "cell_type": "markdown",
            "metadata": {},
            "source": "### We are minimizing the light conditions labels, as they don't not provide much additional information to the research"
        },
        {
            "cell_type": "code",
            "execution_count": 202,
            "metadata": {},
            "outputs": [],
            "source": "df['LIGHTCOND'].replace('Daylight','Day',inplace=True)\ndf['LIGHTCOND'].replace('Dusk','Day',inplace=True)\ndf['LIGHTCOND'].replace('Dark - Street Lights On','Night',inplace=True)\ndf['LIGHTCOND'].replace('Dark - No Street Lights','Night',inplace=True)\ndf['LIGHTCOND'].replace('Dawn','Night',inplace=True)\ndf['LIGHTCOND'].replace('Dark - Street Lights Off','Night',inplace=True)\ndf['LIGHTCOND'].replace('Dark - Unknown Lighting','Night',inplace=True)"
        },
        {
            "cell_type": "code",
            "execution_count": 203,
            "metadata": {},
            "outputs": [
                {
                    "data": {
                        "text/html": "<div>\n<style scoped>\n    .dataframe tbody tr th:only-of-type {\n        vertical-align: middle;\n    }\n\n    .dataframe tbody tr th {\n        vertical-align: top;\n    }\n\n    .dataframe thead th {\n        text-align: right;\n    }\n</style>\n<table border=\"1\" class=\"dataframe\">\n  <thead>\n    <tr style=\"text-align: right;\">\n      <th></th>\n      <th>WEATHER</th>\n      <th>SEVERITYCODE</th>\n      <th>ROADCOND</th>\n      <th>LIGHTCOND</th>\n      <th>SPEEDING</th>\n      <th>HITPARKEDCAR</th>\n      <th>INATTENTIONIND</th>\n    </tr>\n  </thead>\n  <tbody>\n    <tr>\n      <th>0</th>\n      <td>Overcast</td>\n      <td>2</td>\n      <td>Wet</td>\n      <td>Day</td>\n      <td>N</td>\n      <td>N</td>\n      <td>N</td>\n    </tr>\n    <tr>\n      <th>1</th>\n      <td>Raining</td>\n      <td>1</td>\n      <td>Wet</td>\n      <td>Night</td>\n      <td>N</td>\n      <td>N</td>\n      <td>N</td>\n    </tr>\n    <tr>\n      <th>2</th>\n      <td>Overcast</td>\n      <td>1</td>\n      <td>Dry</td>\n      <td>Day</td>\n      <td>N</td>\n      <td>N</td>\n      <td>N</td>\n    </tr>\n    <tr>\n      <th>3</th>\n      <td>Clear</td>\n      <td>1</td>\n      <td>Dry</td>\n      <td>Day</td>\n      <td>N</td>\n      <td>N</td>\n      <td>N</td>\n    </tr>\n    <tr>\n      <th>4</th>\n      <td>Raining</td>\n      <td>2</td>\n      <td>Wet</td>\n      <td>Day</td>\n      <td>N</td>\n      <td>N</td>\n      <td>N</td>\n    </tr>\n  </tbody>\n</table>\n</div>",
                        "text/plain": "    WEATHER  SEVERITYCODE ROADCOND LIGHTCOND SPEEDING HITPARKEDCAR  \\\n0  Overcast             2      Wet       Day        N            N   \n1   Raining             1      Wet     Night        N            N   \n2  Overcast             1      Dry       Day        N            N   \n3     Clear             1      Dry       Day        N            N   \n4   Raining             2      Wet       Day        N            N   \n\n  INATTENTIONIND  \n0              N  \n1              N  \n2              N  \n3              N  \n4              N  "
                    },
                    "execution_count": 203,
                    "metadata": {},
                    "output_type": "execute_result"
                }
            ],
            "source": "df.head()"
        },
        {
            "cell_type": "code",
            "execution_count": 206,
            "metadata": {},
            "outputs": [
                {
                    "name": "stdout",
                    "output_type": "stream",
                    "text": "Unique values for the WEATHER:\n['Overcast' 'Raining' 'Clear' 'Snowing' 'Fog/Smog/Smoke'\n 'Sleet/Hail/Freezing Rain' 'Blowing Sand/Dirt' 'Severe Crosswind'\n 'Partly Cloudy']\n\nUnique values for the SEVERITYCODE:\n[2 1]\n\nUnique values for the ROADCOND:\n['Wet' 'Dry' 'Snow/Slush' 'Ice' 'Sand/Mud/Dirt' 'Oil' 'Standing Water']\n\nUnique values for the LIGHTCOND:\n['Day' 'Night']\n\nUnique values for the SPEEDING:\n['N' 'Y']\n\nUnique values for the HITPARKEDCAR:\n['N' 'Y']\n\nUnique values for the INATTENTIONIND:\n['N' 'Y']\n\n"
                }
            ],
            "source": "print('Unique values for the WEATHER:\\n%s\\n'% df['WEATHER'].unique())\nprint('Unique values for the SEVERITYCODE:\\n%s\\n'% df['SEVERITYCODE'].unique())\nprint('Unique values for the ROADCOND:\\n%s\\n'% df['ROADCOND'].unique())\nprint('Unique values for the LIGHTCOND:\\n%s\\n'% df['LIGHTCOND'].unique())\nprint('Unique values for the SPEEDING:\\n%s\\n'% df['SPEEDING'].unique())\nprint('Unique values for the HITPARKEDCAR:\\n%s\\n'% df['HITPARKEDCAR'].unique())\nprint('Unique values for the INATTENTIONIND:\\n%s\\n'% df['INATTENTIONIND'].unique())"
        },
        {
            "cell_type": "markdown",
            "metadata": {},
            "source": "### Now we need to convert the string features values into the numbered labels"
        },
        {
            "cell_type": "markdown",
            "metadata": {},
            "source": "# przeformatowac kolumny na liczby i labelki"
        },
        {
            "cell_type": "markdown",
            "metadata": {},
            "source": "# wykresy z martlpotliba dla niektorych atrybutow"
        },
        {
            "cell_type": "code",
            "execution_count": null,
            "metadata": {},
            "outputs": [],
            "source": ""
        }
    ],
    "metadata": {
        "kernelspec": {
            "display_name": "Python 3.6",
            "language": "python",
            "name": "python3"
        },
        "language_info": {
            "codemirror_mode": {
                "name": "ipython",
                "version": 3
            },
            "file_extension": ".py",
            "mimetype": "text/x-python",
            "name": "python",
            "nbconvert_exporter": "python",
            "pygments_lexer": "ipython3",
            "version": "3.6.9"
        }
    },
    "nbformat": 4,
    "nbformat_minor": 1
}